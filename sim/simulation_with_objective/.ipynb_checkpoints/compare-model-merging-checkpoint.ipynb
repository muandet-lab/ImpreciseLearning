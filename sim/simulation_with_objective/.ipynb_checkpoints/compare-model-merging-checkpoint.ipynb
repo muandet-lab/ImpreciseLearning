{
 "cells": [
  {
   "cell_type": "code",
   "execution_count": 1,
   "id": "8438efca",
   "metadata": {},
   "outputs": [
    {
     "name": "stdout",
     "output_type": "stream",
     "text": [
      "Looking in indexes: https://pypi.org/simple, https://pypi.ngc.nvidia.com\n",
      "Requirement already satisfied: seaborn in /opt/conda/lib/python3.8/site-packages (0.13.1)\n",
      "Requirement already satisfied: matplotlib!=3.6.1,>=3.4 in /opt/conda/lib/python3.8/site-packages (from seaborn) (3.5.2)\n",
      "Requirement already satisfied: numpy!=1.24.0,>=1.20 in /opt/conda/lib/python3.8/site-packages (from seaborn) (1.22.3)\n",
      "Requirement already satisfied: pandas>=1.2 in /opt/conda/lib/python3.8/site-packages (from seaborn) (1.3.5)\n",
      "Requirement already satisfied: python-dateutil>=2.7 in /opt/conda/lib/python3.8/site-packages (from matplotlib!=3.6.1,>=3.4->seaborn) (2.8.2)\n",
      "Requirement already satisfied: pyparsing>=2.2.1 in /opt/conda/lib/python3.8/site-packages (from matplotlib!=3.6.1,>=3.4->seaborn) (3.0.8)\n",
      "Requirement already satisfied: packaging>=20.0 in /opt/conda/lib/python3.8/site-packages (from matplotlib!=3.6.1,>=3.4->seaborn) (21.3)\n",
      "Requirement already satisfied: cycler>=0.10 in /opt/conda/lib/python3.8/site-packages (from matplotlib!=3.6.1,>=3.4->seaborn) (0.11.0)\n",
      "Requirement already satisfied: fonttools>=4.22.0 in /opt/conda/lib/python3.8/site-packages (from matplotlib!=3.6.1,>=3.4->seaborn) (4.33.3)\n",
      "Requirement already satisfied: kiwisolver>=1.0.1 in /opt/conda/lib/python3.8/site-packages (from matplotlib!=3.6.1,>=3.4->seaborn) (1.4.2)\n",
      "Requirement already satisfied: pillow>=6.2.0 in /opt/conda/lib/python3.8/site-packages (from matplotlib!=3.6.1,>=3.4->seaborn) (9.0.1)\n",
      "Requirement already satisfied: pytz>=2017.3 in /opt/conda/lib/python3.8/site-packages (from pandas>=1.2->seaborn) (2022.1)\n",
      "Requirement already satisfied: six>=1.5 in /opt/conda/lib/python3.8/site-packages (from python-dateutil>=2.7->matplotlib!=3.6.1,>=3.4->seaborn) (1.16.0)\n",
      "Looking in indexes: https://pypi.org/simple, https://pypi.ngc.nvidia.com\n",
      "Requirement already satisfied: ipywidgets in /opt/conda/lib/python3.8/site-packages (8.1.1)\n",
      "Requirement already satisfied: jupyterlab-widgets~=3.0.9 in /opt/conda/lib/python3.8/site-packages (from ipywidgets) (3.0.9)\n",
      "Requirement already satisfied: comm>=0.1.3 in /opt/conda/lib/python3.8/site-packages (from ipywidgets) (0.2.1)\n",
      "Requirement already satisfied: traitlets>=4.3.1 in /opt/conda/lib/python3.8/site-packages (from ipywidgets) (5.1.1)\n",
      "Requirement already satisfied: ipython>=6.1.0 in /opt/conda/lib/python3.8/site-packages (from ipywidgets) (8.3.0)\n",
      "Requirement already satisfied: widgetsnbextension~=4.0.9 in /opt/conda/lib/python3.8/site-packages (from ipywidgets) (4.0.9)\n",
      "Requirement already satisfied: pygments>=2.4.0 in /opt/conda/lib/python3.8/site-packages (from ipython>=6.1.0->ipywidgets) (2.12.0)\n",
      "Requirement already satisfied: pexpect>4.3 in /opt/conda/lib/python3.8/site-packages (from ipython>=6.1.0->ipywidgets) (4.8.0)\n",
      "Requirement already satisfied: decorator in /opt/conda/lib/python3.8/site-packages (from ipython>=6.1.0->ipywidgets) (5.1.1)\n",
      "Requirement already satisfied: backcall in /opt/conda/lib/python3.8/site-packages (from ipython>=6.1.0->ipywidgets) (0.2.0)\n",
      "Requirement already satisfied: stack-data in /opt/conda/lib/python3.8/site-packages (from ipython>=6.1.0->ipywidgets) (0.2.0)\n",
      "Requirement already satisfied: jedi>=0.16 in /opt/conda/lib/python3.8/site-packages (from ipython>=6.1.0->ipywidgets) (0.18.1)\n",
      "Requirement already satisfied: prompt-toolkit!=3.0.0,!=3.0.1,<3.1.0,>=2.0.0 in /opt/conda/lib/python3.8/site-packages (from ipython>=6.1.0->ipywidgets) (3.0.29)\n",
      "Requirement already satisfied: setuptools>=18.5 in /opt/conda/lib/python3.8/site-packages (from ipython>=6.1.0->ipywidgets) (59.5.0)\n",
      "Requirement already satisfied: matplotlib-inline in /opt/conda/lib/python3.8/site-packages (from ipython>=6.1.0->ipywidgets) (0.1.3)\n",
      "Requirement already satisfied: pickleshare in /opt/conda/lib/python3.8/site-packages (from ipython>=6.1.0->ipywidgets) (0.7.5)\n",
      "Requirement already satisfied: parso<0.9.0,>=0.8.0 in /opt/conda/lib/python3.8/site-packages (from jedi>=0.16->ipython>=6.1.0->ipywidgets) (0.8.3)\n",
      "Requirement already satisfied: ptyprocess>=0.5 in /opt/conda/lib/python3.8/site-packages (from pexpect>4.3->ipython>=6.1.0->ipywidgets) (0.7.0)\n",
      "Requirement already satisfied: wcwidth in /opt/conda/lib/python3.8/site-packages (from prompt-toolkit!=3.0.0,!=3.0.1,<3.1.0,>=2.0.0->ipython>=6.1.0->ipywidgets) (0.2.5)\n",
      "Requirement already satisfied: asttokens in /opt/conda/lib/python3.8/site-packages (from stack-data->ipython>=6.1.0->ipywidgets) (2.0.5)\n",
      "Requirement already satisfied: executing in /opt/conda/lib/python3.8/site-packages (from stack-data->ipython>=6.1.0->ipywidgets) (0.8.3)\n",
      "Requirement already satisfied: pure-eval in /opt/conda/lib/python3.8/site-packages (from stack-data->ipython>=6.1.0->ipywidgets) (0.2.2)\n",
      "Requirement already satisfied: six in /opt/conda/lib/python3.8/site-packages (from asttokens->stack-data->ipython>=6.1.0->ipywidgets) (1.16.0)\n"
     ]
    }
   ],
   "source": [
    "!pip install seaborn\n",
    "!pip install ipywidgets"
   ]
  },
  {
   "cell_type": "code",
   "execution_count": 2,
   "id": "owned-clearance",
   "metadata": {},
   "outputs": [],
   "source": [
    "import math\n",
    "import numpy as np\n",
    "import pandas as pd\n",
    "import matplotlib.pyplot as plt\n",
    "import seaborn as sns\n",
    "import itertools\n",
    "import torch\n",
    "import torch.distributions as dist\n",
    "import torch.nn as nn\n",
    "import torch.optim as optim\n",
    "from torch.optim.lr_scheduler import StepLR\n",
    "from tqdm.notebook import tqdm\n",
    "from datetime import datetime\n",
    "#%matplotlib notebook\n",
    "random_seed = 0\n",
    "np.random.seed(seed=random_seed)\n",
    "torch.manual_seed(random_seed)\n",
    "import warnings\n",
    "warnings.filterwarnings('ignore')"
   ]
  },
  {
   "cell_type": "code",
   "execution_count": 3,
   "id": "infinite-tourism",
   "metadata": {},
   "outputs": [],
   "source": [
    "import os\n",
    "path = os.path.join(os.getcwd(), \"plot/\")\n",
    "today=datetime.today().strftime('%Y-%m-%d')"
   ]
  },
  {
   "cell_type": "code",
   "execution_count": 4,
   "id": "a8308a97",
   "metadata": {},
   "outputs": [],
   "source": [
    "device = 'cuda' if torch.cuda.is_available() else 'cpu'"
   ]
  },
  {
   "cell_type": "code",
   "execution_count": 5,
   "id": "77ec6888",
   "metadata": {},
   "outputs": [],
   "source": [
    "class FHatNetwork(nn.Module):\n",
    "    def __init__(self, input_size, hidden_sizes, output_size):\n",
    "        super(FHatNetwork, self).__init__()\n",
    "        layers = []\n",
    "        if hidden_sizes == []:\n",
    "            self.model = nn.Linear(input_size, output_size)\n",
    "        else:\n",
    "            layers.append(nn.Linear(input_size, hidden_sizes[0]))\n",
    "            layers.append(nn.ReLU())\n",
    "            for i in range(1, len(hidden_sizes)):\n",
    "                layers.append(nn.Linear(hidden_sizes[i - 1], hidden_sizes[i]))\n",
    "                layers.append(nn.ReLU())\n",
    "            layers.append(nn.Linear(hidden_sizes[-1], output_size))\n",
    "            self.model = nn.Sequential(*layers)\n",
    "        \n",
    "    def forward(self, x):\n",
    "        return self.model(x)\n",
    "\n",
    "\n",
    "\n",
    "# Define the hypernetwork\n",
    "class HyperNetwork(nn.Module):\n",
    "    def __init__(self, input_dim):\n",
    "        super(HyperNetwork, self).__init__()\n",
    "        self.input_dim = input_dim\n",
    "        self.hyper_layer = FHatNetwork(1,[10],input_dim)\n",
    "        \n",
    "    def forward(self, x, alpha):\n",
    "        alpha = alpha.unsqueeze(0)\n",
    "        params = torch.tanh(self.hyper_layer(alpha))\n",
    "        params = params.view(self.input_dim, 1)\n",
    "        return x@params"
   ]
  },
  {
   "cell_type": "markdown",
   "id": "quick-spelling",
   "metadata": {},
   "source": [
    "**Preliminaries** In the following, the classes are defined to initiate the aggregation functions $\\rho_{\\alpha}$ and the aggregated risk minimization (ARM) optimization for a simple 1D and 2D regression task."
   ]
  },
  {
   "cell_type": "code",
   "execution_count": 6,
   "id": "empirical-jungle",
   "metadata": {
    "scrolled": true
   },
   "outputs": [],
   "source": [
    "class aggregation_function:    \n",
    "    \"\"\" This class aggregates the risks. \"\"\"\n",
    "    def __init__(self, name:str):\n",
    "        self.name = name\n",
    "    def aggregate(self, risks, alpha) -> float:\n",
    "        if self.name == 'cvar':\n",
    "            return self.cvar(risks, alpha)\n",
    "        elif self.name == 'quantile':\n",
    "            return self.quantile(risks, alpha)\n",
    "        else:\n",
    "            raise NotImplementedError(\"Currently, only CVaR is implemented.\")\n",
    "   \n",
    "    def quantile(self, risks, alpha) -> float:\n",
    "        var = torch.quantile(risks,alpha, interpolation='linear')\n",
    "        return var\n",
    "    \n",
    "    def cvar(self, risks, alpha) -> float:\n",
    "        var = torch.quantile(risks,alpha, interpolation='linear')\n",
    "        cvar = risks[risks > var].mean()\n",
    "        return cvar"
   ]
  },
  {
   "cell_type": "code",
   "execution_count": 7,
   "id": "thick-surrey",
   "metadata": {},
   "outputs": [],
   "source": [
    "class ARM_Regression:\n",
    "    def __init__(self, name, experiment=\"1D_linear\"):      \n",
    "        self.aggregator = aggregation_function(name=name)\n",
    "        self.device = torch.device(\"cuda\" if torch.cuda.is_available() else \"cpu\")\n",
    "    \n",
    "    def fit_f(self, f, env_dict, alpha):        \n",
    "        learning_rate = 0.1\n",
    "        num_epochs= 100\n",
    "        d = env_dict[0]['x'].shape[1]\n",
    "        loss_fn = torch.nn.MSELoss()        \n",
    "        optimizer = torch.optim.Adam(f.parameters(), lr=learning_rate)\n",
    "        scheduler = StepLR(optimizer, step_size=100, gamma=0.1)\n",
    "        for epoch in range(num_epochs):\n",
    "            risks = torch.stack([loss_fn(env_dict[e]['y'].to(self.device),f(env_dict[e]['x'].to(self.device))) for e in env_dict.keys()])\n",
    "            cvar = self.aggregator.aggregate(risks, alpha)\n",
    "            cvar.backward()\n",
    "            optimizer.step()\n",
    "            scheduler.step()\n",
    "            optimizer.zero_grad()\n",
    "            if (epoch + 1) % 100 == 0:\n",
    "                print(f\"Epoch [{epoch+1}/{num_epochs}], Loss: {cvar.item()}\")\n",
    "        return \n",
    "    "
   ]
  },
  {
   "cell_type": "markdown",
   "id": "universal-genome",
   "metadata": {},
   "source": [
    "**Experiment 1** We assume the following *linear* data generation process $$Y(X) = X*\\theta_{e}+\\epsilon$$ and *nonlinear* data generation process $$Y(X) = sin(X*\\theta_{e})+\\epsilon$$.\n",
    "\n",
    "**Experiment 1A** Assume a linear model $Y_{e}=\\theta_{e}X+\\epsilon$, where $X \\sim \\mathcal{N}(2,0.2)$ and $\\epsilon\\sim \\mathcal{N}(0,0.1)$. We simulate different environments by drawing $\\theta$ from a beta distribution $Beta(0.1,0.2)$. In total, we generate for 25 environments 100 observations each.\n",
    "\n",
    "**Experiment 1B** Assume the same setting as in Experiment 1, however, in contrast, we simulate different environments by drawing $\\theta$ from a uniform distribution $\\ \\mathcal{U}(0,1)$. In total, we generate for 25 environments 100 observations each."
   ]
  },
  {
   "cell_type": "code",
   "execution_count": 8,
   "id": "pharmaceutical-perfume",
   "metadata": {},
   "outputs": [],
   "source": [
    "class data_generator:\n",
    "    \n",
    "    \"\"\" This class generates the simulation data. \"\"\"\n",
    "    \n",
    "\n",
    "    def __init__(self, envs_train = 25, envs_test = 25, \n",
    "                 size_train = 1000, size_test= 100, \n",
    "                 theta_dist=\"uniform\",\n",
    "                 dim=1):\n",
    "        \n",
    "        self.envs_train = envs_train\n",
    "        self.envs_test = envs_test\n",
    "        self.size_train = size_train\n",
    "        self.size_test = size_test\n",
    "        self.theta_dist = theta_dist\n",
    "        self.dim = dim \n",
    "        \n",
    "    def generate(self) -> dict:           \n",
    "        env_list_train = [f'e_{i}' for i in range(1,self.envs_train+1,1)]\n",
    "        env_dict_train = dict(list(enumerate(env_list_train)))\n",
    "        env_list_test  = [f'e_{i}' for i in range(1,self.envs_test+1,1)]\n",
    "        env_dict_test  = dict(list(enumerate(env_list_test)))\n",
    "        \n",
    "        \n",
    "        for e_train in env_dict_train.keys():\n",
    "            if self.theta_dist == \"uniform\": \n",
    "                distribution = dist.Uniform(0, 1)\n",
    "            else:\n",
    "                distribution = dist.Beta(0.1, 0.2)\n",
    "            theta_true = distribution.sample((self.dim,1))\n",
    "            x_train = dist.normal.Normal(loc=1.0/self.dim, scale=0.5).sample((self.size_train,self.dim))\n",
    "            noise_train = dist.normal.Normal(loc=0, scale=0.05).sample((self.size_train,self.dim))\n",
    "            y_train = (1.0/math.sqrt(self.dim))*x_train@theta_true + noise_train\n",
    "            env_dict_train[e_train] = {'x': x_train,'y': y_train,'theta_true': theta_true}\n",
    "            \n",
    "        for e_test in env_dict_test.keys():\n",
    "            if self.theta_dist == \"uniform\": \n",
    "                distribution = dist.Uniform(0, 1)\n",
    "            else:\n",
    "                distribution = dist.Beta(0.1, 0.2)\n",
    "            theta_true = distribution.sample((self.dim,1))\n",
    "            x_test = dist.normal.Normal(loc=1.0/self.dim, scale=0.5).sample((self.size_test,self.dim))\n",
    "            noise_test = dist.normal.Normal(loc=0, scale=0.05).sample((self.size_test,self.dim))\n",
    "            y_test = (1.0/math.sqrt(self.dim))*x_test@theta_true + noise_test\n",
    "            env_dict_test[e_test] = {'x': x_test,'y': y_test,'theta_true': theta_true}\n",
    "            \n",
    "        return env_dict_train, env_dict_test"
   ]
  },
  {
   "cell_type": "code",
   "execution_count": 9,
   "id": "general-instrument",
   "metadata": {
    "scrolled": false
   },
   "outputs": [
    {
     "data": {
      "text/plain": [
       "<matplotlib.legend.Legend at 0x149744c0e940>"
      ]
     },
     "execution_count": 9,
     "metadata": {},
     "output_type": "execute_result"
    },
    {
     "data": {
      "image/png": "[encoded data removed]",
      "text/plain": [
       "<Figure size 576x432 with 1 Axes>"
      ]
     },
     "metadata": {
      "needs_background": "light"
     },
     "output_type": "display_data"
    }
   ],
   "source": [
    "# Intitialize the experiment and generate the data\n",
    "dim = 1\n",
    "envs_train, envs_test = 250, 250\n",
    "size_train, size_test = 1000 , 1000\n",
    "theta_dist=\"beta\" \n",
    "rho=\"cvar\"\n",
    "\n",
    "generator = data_generator(envs_train, envs_test, size_train, size_test, theta_dist, dim)\n",
    "data_dict_train, data_dict_test = generator.generate()\n",
    "# Define some example dimensions\n",
    "generator = data_generator(envs_train, envs_test, size_train, size_test, theta_dist, dim)\n",
    "data_dict_train, data_dict_test = generator.generate()\n",
    "fig, ax = plt.subplots(1,1, figsize=(8,6))\n",
    "\n",
    "X_train = [data_dict_train[e]['x'].ravel() for e in data_dict_train.keys()]\n",
    "X_train = np.array([item for sublist in X_train for item in sublist]).reshape(-1,1)\n",
    "Y_train = [data_dict_train[e]['y'] for e in data_dict_train.keys()]\n",
    "Y_train = np.array([item for sublist in Y_train for item in sublist]).reshape(-1,1)\n",
    "\n",
    "ax.scatter(y=Y_train, x=X_train, s=3, c=\"grey\", alpha=0.05, label=\"Training envs\")\n",
    "ax.legend(loc='upper left')"
   ]
  },
  {
   "cell_type": "code",
   "execution_count": 10,
   "id": "203cce92",
   "metadata": {
    "scrolled": true
   },
   "outputs": [],
   "source": [
    "import copy\n",
    "def fixed(data_dict_train, dim, alphas):\n",
    "    f = FHatNetwork(dim,[],1).to(device)\n",
    "    groundtruths = []\n",
    "    for alpha in alphas:\n",
    "        ARM_Regression(name=rho).fit_f(f, data_dict_train, alpha)\n",
    "        groundtruths.append(copy.deepcopy(f))\n",
    "    return groundtruths"
   ]
  },
  {
   "cell_type": "code",
   "execution_count": 11,
   "id": "63c2528e",
   "metadata": {},
   "outputs": [],
   "source": [
    "def execute(true_alpha, f_unif, f_dirac, h, ground_truth_f, f_avg, f_worse, data_dict_test):\n",
    "    loss_fn = torch.nn.MSELoss()\n",
    "    with torch.no_grad():\n",
    "        train_risks = []\n",
    "        for e in data_dict_test.keys():\n",
    "            x, y = data_dict_test[e]['x'].to(device), data_dict_test[e]['y'].to(device)\n",
    "            train_risks.append(loss_fn(y, ground_truth_f(x)).cpu()) \n",
    "        train_risks = torch.stack(train_risks)\n",
    "    groundtruth_cvar = aggregation_function(name=\"cvar\").aggregate(train_risks, true_alpha)\n",
    "\n",
    "    with torch.no_grad():\n",
    "        train_risks = []\n",
    "        for e in data_dict_test.keys():\n",
    "            x, y = data_dict_test[e]['x'].to(device), data_dict_test[e]['y'].to(device)\n",
    "            train_risks.append(loss_fn(y, f_unif(x)).cpu()) \n",
    "        train_risks = torch.stack(train_risks)\n",
    "    uniform_cvar = aggregation_function(name=\"cvar\").aggregate(train_risks, true_alpha)\n",
    "\n",
    "\n",
    "    with torch.no_grad():\n",
    "        train_risks = []\n",
    "        for e in data_dict_test.keys():\n",
    "            x, y = data_dict_test[e]['x'].to(device), data_dict_test[e]['y'].to(device)\n",
    "            train_risks.append(loss_fn(y, f_med(x)).cpu()) \n",
    "        train_risks = torch.stack(train_risks)\n",
    "    med_cvar = aggregation_function(name=\"cvar\").aggregate(train_risks, true_alpha)\n",
    "    \n",
    "    with torch.no_grad():\n",
    "        train_risks = []\n",
    "        for e in data_dict_test.keys():\n",
    "            x, y = data_dict_test[e]['x'].to(device), data_dict_test[e]['y'].to(device)\n",
    "            train_risks.append(loss_fn(y, f_avg(x)).cpu()) \n",
    "        train_risks = torch.stack(train_risks)\n",
    "    avg_cvar = aggregation_function(name=\"cvar\").aggregate(train_risks, true_alpha)\n",
    "    \n",
    "    with torch.no_grad():\n",
    "        train_risks = []\n",
    "        for e in data_dict_test.keys():\n",
    "            x, y = data_dict_test[e]['x'].to(device), data_dict_test[e]['y'].to(device)\n",
    "            train_risks.append(loss_fn(y, f_worse(x)).cpu()) \n",
    "        train_risks = torch.stack(train_risks)\n",
    "    worse_cvar = aggregation_function(name=\"cvar\").aggregate(train_risks, true_alpha)\n",
    "    \n",
    "    \n",
    "    with torch.no_grad():\n",
    "        train_risks = []\n",
    "        for e in data_dict_test.keys():\n",
    "            x, y = data_dict_test[e]['x'].to(device), data_dict_test[e]['y'].to(device)\n",
    "            train_risks.append(loss_fn(y, h(x,torch.tensor(true_alpha).to(device))).cpu()) \n",
    "        train_risks = torch.stack(train_risks)\n",
    "    our_cvar = aggregation_function(name=\"cvar\").aggregate(train_risks, true_alpha)\n",
    "    return groundtruth_cvar.item(), med_cvar.item(), uniform_cvar.item(), avg_cvar.item(), worse_cvar.item(), our_cvar.item()"
   ]
  },
  {
   "cell_type": "code",
   "execution_count": 12,
   "id": "5e364615",
   "metadata": {},
   "outputs": [
    {
     "name": "stdout",
     "output_type": "stream",
     "text": [
      "Epoch [100/100], Loss: 0.3338528871536255\n",
      "Epoch [100/100], Loss: 0.3837119936943054\n",
      "Epoch [100/100], Loss: 0.33356407284736633\n",
      "Epoch [100/100], Loss: 0.3830116093158722\n",
      "Epoch [100/100], Loss: 0.33546751737594604\n",
      "Epoch [100/100], Loss: 0.3480406701564789\n",
      "Epoch [100/100], Loss: 0.32891958951950073\n",
      "Epoch [100/100], Loss: 0.38398268818855286\n",
      "Epoch [100/100], Loss: 0.3391965329647064\n",
      "Epoch [100/100], Loss: 0.40258467197418213\n",
      "Epoch [100/100], Loss: 0.3286610245704651\n",
      "Epoch [100/100], Loss: 0.3831578493118286\n",
      "Epoch [100/100], Loss: 0.33457934856414795\n",
      "Epoch [100/100], Loss: 0.3390917479991913\n",
      "Epoch [100/100], Loss: 0.33444470167160034\n",
      "Epoch [100/100], Loss: 0.3830103278160095\n",
      "Epoch [100/100], Loss: 0.33005815744400024\n",
      "Epoch [100/100], Loss: 0.3855968713760376\n",
      "Epoch [100/100], Loss: 0.33093246817588806\n",
      "Epoch [100/100], Loss: 0.3579646646976471\n",
      "Epoch [100/100], Loss: 0.34677863121032715\n",
      "Epoch [100/100], Loss: 0.3426530063152313\n",
      "Epoch [100/100], Loss: 0.3303988575935364\n",
      "Epoch [100/100], Loss: 0.3663681447505951\n",
      "Epoch [100/100], Loss: 0.32802626490592957\n",
      "Epoch [100/100], Loss: 0.38350266218185425\n",
      "Epoch [100/100], Loss: 0.3359626829624176\n",
      "Epoch [100/100], Loss: 0.3664323091506958\n",
      "Epoch [100/100], Loss: 0.329599529504776\n",
      "Epoch [100/100], Loss: 0.35803481936454773\n"
     ]
    }
   ],
   "source": [
    "# New function to reset seeds and reinitialize models\n",
    "def reinitialize_models(seed):\n",
    "    torch.manual_seed(seed)\n",
    "    np.random.seed(seed)\n",
    "    train_alphas = np.random.uniform(low=0, high=1, size=10)\n",
    "    ground_truths = fixed(data_dict_train, dim, train_alphas)\n",
    "    return train_alphas, ground_truths\n",
    "\n",
    "# Main loop for iterating over different seeds\n",
    "num_seeds = [2,9,4,5,6,7,8]  # Number of different seeds to use\n",
    "eval_alphas=[0.0,0.1,0.3,0.5,0.7,0.9,0.999]\n",
    "for seed in num_seeds:\n",
    "    inputsnitialize_models(seed)"
   ]
  },
  {
   "cell_type": "code",
   "execution_count": 13,
   "id": "fa434fc2",
   "metadata": {},
   "outputs": [],
   "source": [
    "def compute_statistics(results):\n",
    "    means = {}\n",
    "    std_devs = {}\n",
    "\n",
    "    for key, value in results.items():\n",
    "        # Ensure value is a list of numbers, not a dictionary\n",
    "        if isinstance(value, dict):\n",
    "            means[key] = {sub_key: np.mean(sub_value) for sub_key, sub_value in value.items()}\n",
    "            std_devs[key] = {sub_key: np.std(sub_value) for sub_key, sub_value in value.items()}\n",
    "        else:\n",
    "            means[key] = np.mean(value)\n",
    "            std_devs[key] = np.std(value)\n",
    "\n",
    "    return means, std_devs\n",
    "means, std_devs = compute_statistics(results)"
   ]
  },
  {
   "cell_type": "code",
   "execution_count": 14,
   "id": "669623d9",
   "metadata": {},
   "outputs": [
    {
     "name": "stdout",
     "output_type": "stream",
     "text": [
      "0.33099931677182515 0.007310218737067334\n",
      "0.3906466007232666 0.029237565653393624\n"
     ]
    }
   ],
   "source": [
    "for key in results.keys():\n",
    "    print(means[key]['GT'],std_devs[key]['GT'])"
   ]
  },
  {
   "cell_type": "code",
   "execution_count": null,
   "id": "b9550efa",
   "metadata": {},
   "outputs": [],
   "source": []
  }
 ],
 "metadata": {
  "kernelspec": {
   "display_name": "Python 3 (ipykernel)",
   "language": "python",
   "name": "python3"
  },
  "language_info": {
   "codemirror_mode": {
    "name": "ipython",
    "version": 3
   },
   "file_extension": ".py",
   "mimetype": "text/x-python",
   "name": "python",
   "nbconvert_exporter": "python",
   "pygments_lexer": "ipython3",
   "version": "3.8.13"
  }
 },
 "nbformat": 4,
 "nbformat_minor": 5
}
